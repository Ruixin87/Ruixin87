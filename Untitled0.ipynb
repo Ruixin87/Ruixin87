{
  "nbformat": 4,
  "nbformat_minor": 0,
  "metadata": {
    "colab": {
      "provenance": [],
      "authorship_tag": "ABX9TyNK+dweIFdTP6n6MMaPwV8p",
      "include_colab_link": true
    },
    "kernelspec": {
      "name": "python3",
      "display_name": "Python 3"
    },
    "language_info": {
      "name": "python"
    }
  },
  "cells": [
    {
      "cell_type": "markdown",
      "metadata": {
        "id": "view-in-github",
        "colab_type": "text"
      },
      "source": [
        "<a href=\"https://colab.research.google.com/github/Ruixin87/Ruixin87/blob/main/Untitled0.ipynb\" target=\"_parent\"><img src=\"https://colab.research.google.com/assets/colab-badge.svg\" alt=\"Open In Colab\"/></a>"
      ]
    },
    {
      "cell_type": "markdown",
      "source": [
        "# Input from a User"
      ],
      "metadata": {
        "id": "k1KqL8ArtOHB"
      }
    },
    {
      "cell_type": "code",
      "execution_count": 11,
      "metadata": {
        "colab": {
          "base_uri": "https://localhost:8080/"
        },
        "id": "pM1o_lYmo48_",
        "outputId": "d351486e-6c45-4c7d-a36a-793dc833a956"
      },
      "outputs": [
        {
          "output_type": "stream",
          "name": "stdout",
          "text": [
            "Enter your Name:Renee\n",
            "Hello Renee\n"
          ]
        }
      ],
      "source": [
        "userInput = input(\"Enter your Name:\")\n",
        "print(\"Hello \" + userInput)"
      ]
    },
    {
      "cell_type": "markdown",
      "source": [
        "# Practice Program 1 : Finding Area of Circle\n",
        "Find the area of the circle after taking the radius as the input from the user"
      ],
      "metadata": {
        "id": "zWL6ENEDtW-I"
      }
    },
    {
      "cell_type": "code",
      "source": [
        "Radius = int(input(\"Enter the radius of the circle:\"))\n",
        "pi= 22/7\n",
        "area = float((pi * Radius **2))\n",
        "print(\"Area of the circle is :{:0.2f}\".format(area))"
      ],
      "metadata": {
        "colab": {
          "base_uri": "https://localhost:8080/"
        },
        "id": "n9L9miVitK2_",
        "outputId": "55c5b00d-38cb-4189-8b9f-2fc7f1cf3673"
      },
      "execution_count": 27,
      "outputs": [
        {
          "output_type": "stream",
          "name": "stdout",
          "text": [
            "Enter the radius of the circle:2\n",
            "Area of the circle is :12.57\n"
          ]
        }
      ]
    },
    {
      "cell_type": "markdown",
      "source": [
        "## Practice Program 3: Convert Temperature from Celsius to Fahrenheit\n",
        "In this program we will take temperature in Celsius as an input from the user and then convert it into Fahrenheit, Generic Formula Temp in F = (Celcius * 9/5) + 32\n",
        "\n"
      ],
      "metadata": {
        "id": "vwbo_LvSx2Fs"
      }
    },
    {
      "cell_type": "code",
      "source": [
        "tempCel = int(input(\"Enter the temperature in Celcius:\"))\n",
        "\n",
        "temFar = float((tempCel * 9/5) + 32)\n",
        "print(\"The Temperature in Fahrenheit is{}\".format(temFar))"
      ],
      "metadata": {
        "colab": {
          "base_uri": "https://localhost:8080/"
        },
        "id": "BETG7yghxvLv",
        "outputId": "72b86d64-5ca2-4abd-c7bd-98359df0268e"
      },
      "execution_count": 33,
      "outputs": [
        {
          "output_type": "stream",
          "name": "stdout",
          "text": [
            "Enter the temperature in Celcius:25\n",
            "The Temperature in Fahrenheit is77.0\n"
          ]
        }
      ]
    },
    {
      "cell_type": "markdown",
      "source": [
        "# Practice Program 4: Swap two numbers using a temp variable\n",
        "In this program we will take two inputs(irrespective of datatype) from the user and store them variable in var1 and var2. Then swap the values present in those two variables.\n"
      ],
      "metadata": {
        "id": "5S4Liof_1ZGx"
      }
    },
    {
      "cell_type": "code",
      "source": [
        "var1 = input(\"Enter value for var1: \")\n",
        "var2 = input(\"Enter value for var2: \")\n",
        "\n",
        "\n",
        "#create a temporary variable and swap those values\n",
        "\n",
        "temp = var1\n",
        "var1 = var2\n",
        "var2 = temp\n",
        "\n",
        "print('The value of var1 after swapping: {}'.format(var1))\n",
        "print('The value of var2 after swapping: {}'.format(var2))\n"
      ],
      "metadata": {
        "colab": {
          "base_uri": "https://localhost:8080/"
        },
        "id": "wrYQNWkf1WtT",
        "outputId": "a657ab50-237e-4a92-f2e7-cec50606d52e"
      },
      "execution_count": 49,
      "outputs": [
        {
          "output_type": "stream",
          "name": "stdout",
          "text": [
            "Enter value for var1: 23\n",
            "Enter value for var2: 45\n",
            "The value of var1 after swapping: 45\n",
            "The value of var2 after swapping: 23\n"
          ]
        }
      ]
    },
    {
      "cell_type": "markdown",
      "source": [
        "# Practice Program 5: Mini-Calculator - Add, Subtract, multiply and divide two numbers\n",
        "In this program we will take two numbers as input from the user and then perform the addition, subtraction, multiplyication and division on those two numbers"
      ],
      "metadata": {
        "id": "fgqNMVtK5Uoh"
      }
    },
    {
      "cell_type": "code",
      "source": [
        "num1 = int(input(\"Enter the first number:\"))\n",
        "num2 = int(input(\"Enter the second number:\"))\n",
        "\n",
        "if num2 == 0:\n",
        "  print(\"The second number is 0 so won't peform the subraction and divison\")\n",
        "\n",
        "else:\n",
        "  sum= num1 + num2\n",
        "  sub= num1 - num2\n",
        "  mul= num1 *num2\n",
        "  div= num1 / num2\n",
        "\n",
        "\n",
        "print(\"The sum of the numbers {} and {} is {}\".format(num1, num2, sum))\n",
        "print(\"The subraction of the numbers {} and {} is {}\".format(num1, num2, sub))\n",
        "print(\"The multiplication of the numbers {} and {} is {}\".format(num1, num2, mul))\n",
        "print(\"The divison of the numbers {} and {} is {:0.2f}\".format(num1, num2, div))\n"
      ],
      "metadata": {
        "colab": {
          "base_uri": "https://localhost:8080/"
        },
        "id": "Or7A3-Qf5R2R",
        "outputId": "54fdd05b-9db4-48f1-a445-69aa28661308"
      },
      "execution_count": 61,
      "outputs": [
        {
          "output_type": "stream",
          "name": "stdout",
          "text": [
            "Enter the first number:24\n",
            "Enter the second number:0\n",
            "The second number is 0 so won't peform the subraction and divison\n",
            "The sum of the numbers 24 and 0 is 56\n",
            "The subraction of the numbers 24 and 0 is 56\n",
            "The multiplication of the numbers 24 and 0 is 0\n",
            "The divison of the numbers 24 and 0 is 0.68\n"
          ]
        }
      ]
    },
    {
      "cell_type": "markdown",
      "source": [
        "# Practice Program 1: Print the multiplication Table of a number\n",
        "In this program we will take two integer(the number itself and the upper limit of the table) as an input from the user and the print the multiplication table for it. Eg:\n",
        "2 x 1 = 2\n",
        "2 x 2 = 4\n",
        "2 x 3 = 6\n",
        "2 x .. = ..\n",
        "2 x 10 = 20"
      ],
      "metadata": {
        "id": "t9ig8uB09n5o"
      }
    },
    {
      "cell_type": "code",
      "source": [
        "num = int(input(\"Enter the number to print the multiplication number of:\"))\n",
        "upperlimit = int(input(\"Enter the upper limit of the multiplication table\"))\n",
        "\n",
        "for iterator in range(1, upperlimit + 1):\n",
        "   print(\"{} x {} = {}\".format(num, iterator, num*iterator))"
      ],
      "metadata": {
        "colab": {
          "base_uri": "https://localhost:8080/"
        },
        "id": "3bMag-eq-WaB",
        "outputId": "1cee05e6-f584-40b3-b564-c2dad2f31fb5"
      },
      "execution_count": 66,
      "outputs": [
        {
          "output_type": "stream",
          "name": "stdout",
          "text": [
            "Enter the number to print the multiplication number of:20\n",
            "Enter the upper limit of the multiplication table30\n",
            "20 x 1 = 20\n",
            "20 x 2 = 40\n",
            "20 x 3 = 60\n",
            "20 x 4 = 80\n",
            "20 x 5 = 100\n",
            "20 x 6 = 120\n",
            "20 x 7 = 140\n",
            "20 x 8 = 160\n",
            "20 x 9 = 180\n",
            "20 x 10 = 200\n",
            "20 x 11 = 220\n",
            "20 x 12 = 240\n",
            "20 x 13 = 260\n",
            "20 x 14 = 280\n",
            "20 x 15 = 300\n",
            "20 x 16 = 320\n",
            "20 x 17 = 340\n",
            "20 x 18 = 360\n",
            "20 x 19 = 380\n",
            "20 x 20 = 400\n",
            "20 x 21 = 420\n",
            "20 x 22 = 440\n",
            "20 x 23 = 460\n",
            "20 x 24 = 480\n",
            "20 x 25 = 500\n",
            "20 x 26 = 520\n",
            "20 x 27 = 540\n",
            "20 x 28 = 560\n",
            "20 x 29 = 580\n",
            "20 x 30 = 600\n"
          ]
        }
      ]
    },
    {
      "cell_type": "markdown",
      "source": [],
      "metadata": {
        "id": "1LFDJqgsBKpN"
      }
    },
    {
      "cell_type": "markdown",
      "source": [
        "# Practice Program 2: Adding two matrices\n",
        "Let there be two different matrices, write a program to add them and then display the result."
      ],
      "metadata": {
        "id": "ZM4bwEweBSFQ"
      }
    },
    {
      "cell_type": "code",
      "source": [],
      "metadata": {
        "id": "ehp3QYI3AYKD"
      },
      "execution_count": null,
      "outputs": []
    },
    {
      "cell_type": "markdown",
      "source": [],
      "metadata": {
        "id": "3NLGbsHQBQzM"
      }
    }
  ]
}